{
 "cells": [
  {
   "cell_type": "code",
   "execution_count": 1,
   "id": "29de7ca0-50ee-4271-8ee1-08fc53ec7189",
   "metadata": {
    "tags": []
   },
   "outputs": [
    {
     "name": "stdout",
     "output_type": "stream",
     "text": [
      "[1 2 0]\n"
     ]
    }
   ],
   "source": [
    "import numpy as np\n",
    "\n",
    "# 创建一个示例数组\n",
    "arr = np.array([3, 1, 2])\n",
    "\n",
    "# 使用 np.argsort 对数组进行排序\n",
    "sorted_indices = np.argsort(arr)\n",
    "\n",
    "# 打印排序后的索引值\n",
    "print(sorted_indices)"
   ]
  },
  {
   "cell_type": "code",
   "execution_count": 2,
   "id": "3c104079-d2f4-4696-901f-b4ab9959bc60",
   "metadata": {
    "tags": []
   },
   "outputs": [
    {
     "data": {
      "text/plain": [
       "array([1, 2])"
      ]
     },
     "execution_count": 2,
     "metadata": {},
     "output_type": "execute_result"
    }
   ],
   "source": [
    "sorted_indices[:2]"
   ]
  },
  {
   "cell_type": "code",
   "execution_count": null,
   "id": "27911114-09df-4bae-aa00-0a90dec2ce7a",
   "metadata": {},
   "outputs": [],
   "source": []
  }
 ],
 "metadata": {
  "kernelspec": {
   "display_name": "Python 3 (ipykernel)",
   "language": "python",
   "name": "python3"
  },
  "language_info": {
   "codemirror_mode": {
    "name": "ipython",
    "version": 3
   },
   "file_extension": ".py",
   "mimetype": "text/x-python",
   "name": "python",
   "nbconvert_exporter": "python",
   "pygments_lexer": "ipython3",
   "version": "3.11.4"
  }
 },
 "nbformat": 4,
 "nbformat_minor": 5
}
